{
  "nbformat": 4,
  "nbformat_minor": 0,
  "metadata": {
    "colab": {
      "name": "classificacao_roupas.ipynb",
      "provenance": [],
      "collapsed_sections": [],
      "authorship_tag": "ABX9TyOHyHTOqb31OaHqPL96+8gx",
      "include_colab_link": true
    },
    "kernelspec": {
      "name": "python3",
      "display_name": "Python 3"
    }
  },
  "cells": [
    {
      "cell_type": "markdown",
      "metadata": {
        "id": "view-in-github",
        "colab_type": "text"
      },
      "source": [
        "<a href=\"https://colab.research.google.com/github/jessicamila05/machine_learning_classificacao_imagens/blob/main/classificacao_roupas.ipynb\" target=\"_parent\"><img src=\"https://colab.research.google.com/assets/colab-badge.svg\" alt=\"Open In Colab\"/></a>"
      ]
    },
    {
      "cell_type": "markdown",
      "metadata": {
        "id": "mWUIQLqJaYyP"
      },
      "source": [
        "**Imports**"
      ]
    },
    {
      "cell_type": "code",
      "metadata": {
        "id": "yoETEc07Z6Ko"
      },
      "source": [
        "import tensorflow\n",
        "from tensorflow import keras \n",
        "import matplotlib.pyplot as plt\n",
        "import numpy as np\n",
        "from tensorflow.keras.models import load_model\n",
        "from google.colab import drive\n",
        "\n"
      ],
      "execution_count": null,
      "outputs": []
    },
    {
      "cell_type": "markdown",
      "metadata": {
        "id": "dgeMtFBZaeJ1"
      },
      "source": [
        "**Carregando os dados**"
      ]
    },
    {
      "cell_type": "code",
      "metadata": {
        "id": "den8NbX-aAhH",
        "colab": {
          "base_uri": "https://localhost:8080/"
        },
        "outputId": "86162b98-22ef-480d-c84e-694f24731198"
      },
      "source": [
        "dataset = keras.datasets.fashion_mnist\n",
        "((imagens_treino, identificacoes_treino),(imagens_teste, identificacoes_teste)) = dataset.load_data()"
      ],
      "execution_count": null,
      "outputs": [
        {
          "output_type": "stream",
          "text": [
            "Downloading data from https://storage.googleapis.com/tensorflow/tf-keras-datasets/train-labels-idx1-ubyte.gz\n",
            "32768/29515 [=================================] - 0s 0us/step\n",
            "Downloading data from https://storage.googleapis.com/tensorflow/tf-keras-datasets/train-images-idx3-ubyte.gz\n",
            "26427392/26421880 [==============================] - 0s 0us/step\n",
            "Downloading data from https://storage.googleapis.com/tensorflow/tf-keras-datasets/t10k-labels-idx1-ubyte.gz\n",
            "8192/5148 [===============================================] - 0s 0us/step\n",
            "Downloading data from https://storage.googleapis.com/tensorflow/tf-keras-datasets/t10k-images-idx3-ubyte.gz\n",
            "4423680/4422102 [==============================] - 0s 0us/step\n"
          ],
          "name": "stdout"
        }
      ]
    },
    {
      "cell_type": "markdown",
      "metadata": {
        "id": "i75_qVoHaqY6"
      },
      "source": [
        " **Exploração dos dados**"
      ]
    },
    {
      "cell_type": "code",
      "metadata": {
        "id": "Em5G-OdcaEXs",
        "colab": {
          "base_uri": "https://localhost:8080/"
        },
        "outputId": "7ec2c966-126c-4ebb-abe3-78456b0a416a"
      },
      "source": [
        "len(imagens_treino)\n",
        "imagens_treino.shape\n",
        "imagens_teste.shape\n",
        "len(identificacoes_teste)\n",
        "identificacoes_treino.min()\n",
        "identificacoes_treino.max()\n"
      ],
      "execution_count": null,
      "outputs": [
        {
          "output_type": "execute_result",
          "data": {
            "text/plain": [
              "9"
            ]
          },
          "metadata": {
            "tags": []
          },
          "execution_count": 3
        }
      ]
    },
    {
      "cell_type": "markdown",
      "metadata": {
        "id": "GS4ln01Ma4nx"
      },
      "source": [
        " **Exibição dos dados**"
      ]
    },
    {
      "cell_type": "code",
      "metadata": {
        "colab": {
          "base_uri": "https://localhost:8080/",
          "height": 282
        },
        "id": "IJhshNYb6tEI",
        "outputId": "07461110-467a-4fb1-8df9-ca45855448da"
      },
      "source": [
        "total_de_classificacoes = 10\n",
        "nomes_de_classificacoes = ['Camiseta', 'Calça', 'Pullover', 'Vestido', 'Casaco', 'Sandália', 'Camisa', 'Tênis','Bolsa', 'bota']\n",
        "\n",
        "'''\n",
        "plt.imshow(imagens_treino[0])\n",
        "plt.title(identificacoes_treino[0])\n",
        "\n",
        "for imagem in range(10):\n",
        "  \n",
        "  plt.subplot(2, 5, imagem+1)\n",
        "  plt.imshow(imagens_treino[imagem])\n",
        "  plt.title(nomes_de_classificacoes[identificacoes_treino[imagem]])\n",
        "'''\n",
        "\n",
        "plt.imshow(imagens_treino[0])\n",
        "plt.colorbar()\n"
      ],
      "execution_count": null,
      "outputs": [
        {
          "output_type": "execute_result",
          "data": {
            "text/plain": [
              "<matplotlib.colorbar.Colorbar at 0x7f362ac56320>"
            ]
          },
          "metadata": {
            "tags": []
          },
          "execution_count": 4
        },
        {
          "output_type": "display_data",
          "data": {
            "image/png": "[encoded data removed]",
            "text/plain": [
              "<Figure size 432x288 with 2 Axes>"
            ]
          },
          "metadata": {
            "tags": [],
            "needs_background": "light"
          }
        }
      ]
    },
    {
      "cell_type": "markdown",
      "metadata": {
        "id": "QwFyLCJDMNn2"
      },
      "source": [
        "**Normalizando as imagens** "
      ]
    },
    {
      "cell_type": "code",
      "metadata": {
        "id": "zkH0-3SXk5pp"
      },
      "source": [
        "#normalização...\n",
        "imagens_treino = imagens_treino/float(255) #ou só 255.0\n",
        "\n"
      ],
      "execution_count": null,
      "outputs": []
    },
    {
      "cell_type": "markdown",
      "metadata": {
        "id": "9fqbL8lfNUg9"
      },
      "source": [
        "**Criando, compilando, treinando e normalizando o modelo**"
      ]
    },
    {
      "cell_type": "code",
      "metadata": {
        "colab": {
          "base_uri": "https://localhost:8080/"
        },
        "id": "aADpD7CZMlp_",
        "outputId": "7db585a1-1a99-4ef8-bd72-40392cb79233"
      },
      "source": [
        "#Criando o Modelo...\n",
        "modelo = keras.Sequential([\n",
        "                           keras.layers.Flatten(input_shape= (28, 28)), #entrada...\n",
        "                           keras.layers.Dense(256, activation=tensorflow.nn.relu), #processamento...\n",
        "                           keras.layers.Dropout(0.2), #normalizando o modelo com droupout...\n",
        "                           keras.layers.Dense(10, activation=tensorflow.nn.softmax), #saida...                          \n",
        "])\n",
        "\n",
        "adam = keras.optimizers.Adam(lr=0.002)\n",
        "\n",
        "callbacks = [keras.callbacks.EarlyStopping(monitor='val_loss'), \n",
        "             keras.callbacks.ModelCheckpoint(filepath='melhor_modelo.hdf5', monitor='val_loss', save_best_only=True)]\n",
        "\n",
        "#Compilando o modelo...\n",
        "modelo.compile(optimizer='adam', loss='sparse_categorical_crossentropy',\n",
        "               metrics=['accuracy']) #entropia categorica cruzada esparsas\n",
        "\n",
        "#Treinando o modelo... Normalizando...\n",
        "historico = modelo.fit(imagens_treino, identificacoes_treino, \n",
        "                       batch_size=480, epochs=5, \n",
        "                       validation_split=0.2, \n",
        "                       callbacks=callbacks) "
      ],
      "execution_count": null,
      "outputs": [
        {
          "output_type": "stream",
          "text": [
            "Epoch 1/5\n",
            "100/100 [==============================] - 2s 17ms/step - loss: 0.9819 - accuracy: 0.6656 - val_loss: 0.4933 - val_accuracy: 0.8289\n",
            "Epoch 2/5\n",
            "100/100 [==============================] - 2s 16ms/step - loss: 0.4840 - accuracy: 0.8342 - val_loss: 0.4241 - val_accuracy: 0.8532\n",
            "Epoch 3/5\n",
            "100/100 [==============================] - 1s 15ms/step - loss: 0.4193 - accuracy: 0.8532 - val_loss: 0.3913 - val_accuracy: 0.8637\n",
            "Epoch 4/5\n",
            "100/100 [==============================] - 2s 15ms/step - loss: 0.3865 - accuracy: 0.8630 - val_loss: 0.3707 - val_accuracy: 0.8682\n",
            "Epoch 5/5\n",
            "100/100 [==============================] - 2s 15ms/step - loss: 0.3660 - accuracy: 0.8688 - val_loss: 0.3590 - val_accuracy: 0.8698\n"
          ],
          "name": "stdout"
        }
      ]
    },
    {
      "cell_type": "markdown",
      "metadata": {
        "id": "y3dGvoisvPMY"
      },
      "source": [
        "**Sumário do modelo**"
      ]
    },
    {
      "cell_type": "code",
      "metadata": {
        "colab": {
          "base_uri": "https://localhost:8080/"
        },
        "id": "0Iyilx3MTGQe",
        "outputId": "83d51639-abad-4b1c-f2ac-b36e7c40e91b"
      },
      "source": [
        "sumario_do_modelo = modelo.summary()\n"
      ],
      "execution_count": null,
      "outputs": [
        {
          "output_type": "stream",
          "text": [
            "Model: \"sequential\"\n",
            "_________________________________________________________________\n",
            "Layer (type)                 Output Shape              Param #   \n",
            "=================================================================\n",
            "flatten (Flatten)            (None, 784)               0         \n",
            "_________________________________________________________________\n",
            "dense (Dense)                (None, 256)               200960    \n",
            "_________________________________________________________________\n",
            "dropout (Dropout)            (None, 256)               0         \n",
            "_________________________________________________________________\n",
            "dense_1 (Dense)              (None, 10)                2570      \n",
            "=================================================================\n",
            "Total params: 203,530\n",
            "Trainable params: 203,530\n",
            "Non-trainable params: 0\n",
            "_________________________________________________________________\n"
          ],
          "name": "stdout"
        }
      ]
    },
    {
      "cell_type": "markdown",
      "metadata": {
        "id": "BWvR2Rcxv-SO"
      },
      "source": [
        "**Pesos da camada dense**"
      ]
    },
    {
      "cell_type": "code",
      "metadata": {
        "colab": {
          "base_uri": "https://localhost:8080/"
        },
        "id": "pwwVLq4IaElv",
        "outputId": "1d9966ec-bb90-4a15-af43-835bdd7ca7a2"
      },
      "source": [
        "pesos_camada_dense = modelo.layers[1].get_weights()[0]\n",
        "pesos_camada_dense"
      ],
      "execution_count": null,
      "outputs": [
        {
          "output_type": "execute_result",
          "data": {
            "text/plain": [
              "array([[-0.06620776, -0.03401868, -0.0917071 , ...,  0.15070769,\n",
              "        -0.00105432,  0.08941542],\n",
              "       [-0.06615929, -0.00566567,  0.05610766, ..., -0.05073429,\n",
              "         0.10894001,  0.0169579 ],\n",
              "       [-0.02741842, -0.068673  ,  0.00258863, ...,  0.07887463,\n",
              "        -0.01833941, -0.16546531],\n",
              "       ...,\n",
              "       [-0.02268327,  0.03648584,  0.05587923, ..., -0.15286152,\n",
              "         0.05040529,  0.02853442],\n",
              "       [-0.04201943, -0.0395864 , -0.11398955, ..., -0.06262744,\n",
              "         0.16818164,  0.02956215],\n",
              "       [ 0.04314458, -0.03218512, -0.03055444, ..., -0.09854826,\n",
              "         0.05061342, -0.24924088]], dtype=float32)"
            ]
          },
          "metadata": {
            "tags": []
          },
          "execution_count": 7
        }
      ]
    },
    {
      "cell_type": "code",
      "metadata": {
        "colab": {
          "base_uri": "https://localhost:8080/"
        },
        "id": "8fti0ITAbkjZ",
        "outputId": "4b0ca09e-e80c-4f8c-9c6c-9c961a498dde"
      },
      "source": [
        "pesos_camada_dense.shape\n",
        "pesos_camada_dense_zerados =np.zeros((784, 256))\n",
        "\n",
        "pesos_camada_dense_aleatorios =np.random.rand(784, 256)\n",
        "'''\n",
        "#rondando os pesos zerados...\n",
        "modelo.layers[1].set_weights([pesos_camada_dense_zerados,vieses_camada_dense])\n",
        "'''\n",
        "\n",
        "#rodando pesos aleatorios...\n",
        "modelo.layers[1].set_weights([pesos_camada_dense_aleatorios,vieses_camada_dense])\n",
        "modelo.layers[1].get_weights()\n"
      ],
      "execution_count": null,
      "outputs": [
        {
          "output_type": "execute_result",
          "data": {
            "text/plain": [
              "[array([[0.1938858 , 0.7940019 , 0.9796088 , ..., 0.5977174 , 0.9293361 ,\n",
              "         0.3707212 ],\n",
              "        [0.41001654, 0.2907723 , 0.8041293 , ..., 0.31776074, 0.3163986 ,\n",
              "         0.624766  ],\n",
              "        [0.79511005, 0.7474248 , 0.37787652, ..., 0.5128052 , 0.1760237 ,\n",
              "         0.37163228],\n",
              "        ...,\n",
              "        [0.5314986 , 0.51124203, 0.56574565, ..., 0.60426575, 0.88284   ,\n",
              "         0.01149746],\n",
              "        [0.36825284, 0.1705303 , 0.9573014 , ..., 0.7125551 , 0.33983865,\n",
              "         0.14036283],\n",
              "        [0.29922915, 0.13353814, 0.27624786, ..., 0.29636484, 0.23282668,\n",
              "         0.25682697]], dtype=float32),\n",
              " array([ 0.05490521, -0.00726257,  0.20382707,  0.46182394, -0.09625323,\n",
              "         0.26575294,  0.22509645,  0.05258639, -0.05661117,  0.37709796,\n",
              "         0.05587661,  0.08114166, -0.06563804, -0.09874365,  0.27212882,\n",
              "        -0.28036004, -0.04780727,  0.33459416, -0.02479019,  0.21360172,\n",
              "         0.33808392,  0.33868524, -0.36615428, -0.13085178, -0.01823672,\n",
              "        -0.1794874 ,  0.03375541,  0.04828912,  0.32856238,  0.12089539,\n",
              "         0.11736519,  0.1804568 ,  0.13479154,  0.06075621,  0.08733095,\n",
              "         0.12914608,  0.3775127 ,  0.2564626 ,  0.05294316, -0.0234204 ,\n",
              "        -0.01287939,  0.24698634,  0.42147267,  0.20663124,  0.06994805,\n",
              "         0.16665547,  0.03682033,  0.12102583,  0.26517287, -0.06257354,\n",
              "         0.2628632 ,  0.20404677,  0.18328485, -0.16394642, -0.03381995,\n",
              "         0.40562522,  0.39432362, -0.09262567,  0.01834243,  0.18954146,\n",
              "         0.08588187,  0.13222674, -0.1515146 ,  0.17169678, -0.01114162,\n",
              "        -0.14796828,  0.45927948, -0.19556303, -0.12107308,  0.31293154,\n",
              "        -0.01201444,  0.00202411,  0.266485  ,  0.07313451,  0.01412088,\n",
              "         0.02885396,  0.18696804,  0.32094195,  0.20607683,  0.00475839,\n",
              "        -0.13479331, -0.43043876,  0.2260936 ,  0.11379533,  0.2101496 ,\n",
              "         0.37238076,  0.20821813,  0.35853556, -0.012751  ,  0.27996168,\n",
              "        -0.10423899, -0.02805441,  0.45232686, -0.01714082,  0.2236927 ,\n",
              "         0.14318311, -0.00652631, -0.01963555,  0.28610653,  0.05455995,\n",
              "         0.07745998, -0.06527744, -0.4196757 , -0.12335283,  0.27294448,\n",
              "         0.21119095, -0.09828774,  0.23862778,  0.2247449 ,  0.32893455,\n",
              "        -0.001804  ,  0.0258484 ,  0.24637422,  0.14477259, -0.01761629,\n",
              "         0.00656687,  0.26098406,  0.05636673,  0.10757045,  0.08283444,\n",
              "         0.06907679, -0.01809941, -0.04448896, -0.01465321,  0.11888967,\n",
              "         0.01318483,  0.28254405, -0.01039744, -0.02446612,  0.15687662,\n",
              "        -0.06326082,  0.14269736,  0.3735906 ,  0.38074672,  0.0290398 ,\n",
              "         0.19151019,  0.24096523, -0.05821794,  0.28364396, -0.01509563,\n",
              "         0.00517597, -0.13932633, -0.17215702, -0.01465652, -0.02630227,\n",
              "        -0.18688874,  0.08983485,  0.12788938, -0.01798805,  0.0126323 ,\n",
              "        -0.19732273,  0.03282869,  0.16074668,  0.21017326, -0.2964235 ,\n",
              "        -0.04121125,  0.13603786,  0.24885075,  0.10957592,  0.17371802,\n",
              "        -0.00816967,  0.18830538,  0.20077053,  0.08462651, -0.02309422,\n",
              "        -0.02081674, -0.04872863,  0.11136395,  0.15846835,  0.10689208,\n",
              "        -0.04525792,  0.45193347,  0.3022901 ,  0.19545208,  0.04156487,\n",
              "         0.49242768,  0.15685679,  0.03303218, -0.1229639 , -0.06397551,\n",
              "        -0.04092484,  0.3292636 ,  0.3244177 ,  0.06091063,  0.31975475,\n",
              "        -0.0638435 ,  0.08213164,  0.08275008, -0.10779323, -0.2217928 ,\n",
              "        -0.01650362,  0.28565478,  0.14867373,  0.2282742 ,  0.281795  ,\n",
              "         0.16335   ,  0.04997742,  0.2545287 , -0.20140988,  0.3035807 ,\n",
              "        -0.00979537, -0.06843574,  0.16023272, -0.02134134,  0.4247034 ,\n",
              "         0.30069733,  0.19813256, -0.2058817 , -0.08445153, -0.18509252,\n",
              "         0.14740315,  0.3900155 ,  0.03541963,  0.08043888,  0.04900888,\n",
              "         0.03025948, -0.06233535,  0.35241568,  0.13299745,  0.08279683,\n",
              "         0.0776579 ,  0.28356582,  0.3204922 , -0.03247217,  0.17540336,\n",
              "        -0.05470548,  0.00330654, -0.01194565,  0.27121347, -0.09344088,\n",
              "         0.03746497,  0.0504711 ,  0.2990079 , -0.02965957,  0.15490508,\n",
              "        -0.29627877, -0.020356  ,  0.18151087, -0.01608184,  0.16001341,\n",
              "         0.32901642,  0.1073663 ,  0.00074669,  0.48530304,  0.31121954,\n",
              "         0.03648448, -0.21546066,  0.01469527,  0.19630635,  0.09420356,\n",
              "        -0.07432085,  0.04959943, -0.09619348,  0.4390175 , -0.00663835,\n",
              "         0.04257576], dtype=float32)]"
            ]
          },
          "metadata": {
            "tags": []
          },
          "execution_count": 11
        }
      ]
    },
    {
      "cell_type": "code",
      "metadata": {
        "colab": {
          "base_uri": "https://localhost:8080/"
        },
        "id": "cVmab8goeK-b",
        "outputId": "c854122e-574b-47f4-9ee7-a438a894045e"
      },
      "source": [
        "\n",
        "\n",
        "#Compilando o modelo...\n",
        "modelo.compile(optimizer=adam, loss='sparse_categorical_crossentropy',\n",
        "               metrics=['accuracy']) #entropia categorica cruzada esparsa\n",
        "\n",
        "#Treinando o modelo... Normalizando...\n",
        "historico = modelo.fit(imagens_treino, identificacoes_treino, epochs=5, validation_split=0.2) "
      ],
      "execution_count": null,
      "outputs": [
        {
          "output_type": "stream",
          "text": [
            "Epoch 1/5\n",
            "1500/1500 [==============================] - 5s 3ms/step - loss: 2.3178 - accuracy: 0.0980 - val_loss: 2.3032 - val_accuracy: 0.0957\n",
            "Epoch 2/5\n",
            "1500/1500 [==============================] - 5s 3ms/step - loss: 2.3028 - accuracy: 0.0968 - val_loss: 2.3029 - val_accuracy: 0.0995\n",
            "Epoch 3/5\n",
            "1500/1500 [==============================] - 5s 3ms/step - loss: 2.3028 - accuracy: 0.1004 - val_loss: 2.3029 - val_accuracy: 0.1005\n",
            "Epoch 4/5\n",
            "1500/1500 [==============================] - 5s 3ms/step - loss: 2.3029 - accuracy: 0.1010 - val_loss: 2.3031 - val_accuracy: 0.1003\n",
            "Epoch 5/5\n",
            "1500/1500 [==============================] - 5s 3ms/step - loss: 2.3028 - accuracy: 0.1001 - val_loss: 2.3035 - val_accuracy: 0.0957\n"
          ],
          "name": "stdout"
        }
      ]
    },
    {
      "cell_type": "code",
      "metadata": {
        "colab": {
          "base_uri": "https://localhost:8080/",
          "height": 314
        },
        "id": "kVDlMidVeTaz",
        "outputId": "6c8ae7a6-a525-4400-b93f-5afa102e1c92"
      },
      "source": [
        "plt.plot(historico.history['accuracy'])\n",
        "plt.plot(historico.history['val_accuracy'])\n",
        "plt.title('Acurácia por épocas')\n",
        "plt.xlabel('Épocas')\n",
        "plt.ylabel('Acurácia')\n",
        "plt.legend(['Treino', 'Validação'])"
      ],
      "execution_count": null,
      "outputs": [
        {
          "output_type": "execute_result",
          "data": {
            "text/plain": [
              "<matplotlib.legend.Legend at 0x7f3622de72e8>"
            ]
          },
          "metadata": {
            "tags": []
          },
          "execution_count": 13
        },
        {
          "output_type": "display_data",
          "data": {
            "image/png": "[encoded data removed]",
            "text/plain": [
              "<Figure size 432x288 with 1 Axes>"
            ]
          },
          "metadata": {
            "tags": [],
            "needs_background": "light"
          }
        }
      ]
    },
    {
      "cell_type": "code",
      "metadata": {
        "colab": {
          "base_uri": "https://localhost:8080/",
          "height": 314
        },
        "id": "ig46675tefWK",
        "outputId": "52a9782c-e1ea-4101-c57e-bfb89103849a"
      },
      "source": [
        "plt.plot(historico.history['loss'])\n",
        "plt.plot(historico.history['val_loss'])\n",
        "plt.title('Perda por épocas')\n",
        "plt.xlabel('Épocas')\n",
        "plt.ylabel('Perda')\n",
        "plt.legend(['Treino', 'Validação'])"
      ],
      "execution_count": null,
      "outputs": [
        {
          "output_type": "execute_result",
          "data": {
            "text/plain": [
              "<matplotlib.legend.Legend at 0x7f3622dbb710>"
            ]
          },
          "metadata": {
            "tags": []
          },
          "execution_count": 14
        },
        {
          "output_type": "display_data",
          "data": {
            "image/png": "[encoded data removed]",
            "text/plain": [
              "<Figure size 432x288 with 1 Axes>"
            ]
          },
          "metadata": {
            "tags": [],
            "needs_background": "light"
          }
        }
      ]
    },
    {
      "cell_type": "code",
      "metadata": {
        "colab": {
          "base_uri": "https://localhost:8080/"
        },
        "id": "Ha94Q1DligsJ",
        "outputId": "05db18bc-4624-45be-9b56-7c9769498ca4"
      },
      "source": [
        "modelo.get_config()"
      ],
      "execution_count": null,
      "outputs": [
        {
          "output_type": "execute_result",
          "data": {
            "text/plain": [
              "{'layers': [{'class_name': 'InputLayer',\n",
              "   'config': {'batch_input_shape': (None, 28, 28),\n",
              "    'dtype': 'float32',\n",
              "    'name': 'flatten_input',\n",
              "    'ragged': False,\n",
              "    'sparse': False}},\n",
              "  {'class_name': 'Flatten',\n",
              "   'config': {'batch_input_shape': (None, 28, 28),\n",
              "    'data_format': 'channels_last',\n",
              "    'dtype': 'float32',\n",
              "    'name': 'flatten',\n",
              "    'trainable': True}},\n",
              "  {'class_name': 'Dense',\n",
              "   'config': {'activation': 'relu',\n",
              "    'activity_regularizer': None,\n",
              "    'bias_constraint': None,\n",
              "    'bias_initializer': {'class_name': 'Zeros', 'config': {}},\n",
              "    'bias_regularizer': None,\n",
              "    'dtype': 'float32',\n",
              "    'kernel_constraint': None,\n",
              "    'kernel_initializer': {'class_name': 'GlorotUniform',\n",
              "     'config': {'seed': None}},\n",
              "    'kernel_regularizer': None,\n",
              "    'name': 'dense',\n",
              "    'trainable': True,\n",
              "    'units': 256,\n",
              "    'use_bias': True}},\n",
              "  {'class_name': 'Dropout',\n",
              "   'config': {'dtype': 'float32',\n",
              "    'name': 'dropout',\n",
              "    'noise_shape': None,\n",
              "    'rate': 0.2,\n",
              "    'seed': None,\n",
              "    'trainable': True}},\n",
              "  {'class_name': 'Dense',\n",
              "   'config': {'activation': 'softmax',\n",
              "    'activity_regularizer': None,\n",
              "    'bias_constraint': None,\n",
              "    'bias_initializer': {'class_name': 'Zeros', 'config': {}},\n",
              "    'bias_regularizer': None,\n",
              "    'dtype': 'float32',\n",
              "    'kernel_constraint': None,\n",
              "    'kernel_initializer': {'class_name': 'GlorotUniform',\n",
              "     'config': {'seed': None}},\n",
              "    'kernel_regularizer': None,\n",
              "    'name': 'dense_1',\n",
              "    'trainable': True,\n",
              "    'units': 10,\n",
              "    'use_bias': True}}],\n",
              " 'name': 'sequential'}"
            ]
          },
          "metadata": {
            "tags": []
          },
          "execution_count": 15
        }
      ]
    },
    {
      "cell_type": "markdown",
      "metadata": {
        "id": "SF6sX0BmaNq1"
      },
      "source": [
        "**Vieses da camada dense**"
      ]
    },
    {
      "cell_type": "code",
      "metadata": {
        "id": "CGNyBBHduIAg",
        "colab": {
          "base_uri": "https://localhost:8080/"
        },
        "outputId": "b1cd1962-4271-4535-adc0-64ec63ac258e"
      },
      "source": [
        "vieses_camada_dense = modelo.layers[1].get_weights()[1]\n",
        "vieses_camada_dense\n"
      ],
      "execution_count": null,
      "outputs": [
        {
          "output_type": "execute_result",
          "data": {
            "text/plain": [
              "array([-4.184429 , -3.7902668, -3.7135534, -3.2522342, -4.518854 ,\n",
              "       -3.4502413, -3.7495387, -5.2795186, -4.7307944, -3.7244184,\n",
              "       -5.4841003, -5.472205 , -5.2257032, -4.169401 , -3.2349315,\n",
              "       -5.4828553, -4.6338887, -3.1571307, -4.2414236, -4.445705 ,\n",
              "       -3.8801763, -3.7689316, -5.4742155, -4.8090587, -4.9259424,\n",
              "       -5.3387628, -3.8227367, -3.3158543, -2.674158 , -5.1366916,\n",
              "       -5.0327206, -3.29251  , -4.0311155, -4.7153215, -3.891433 ,\n",
              "       -2.933189 , -5.03785  , -4.1539226, -4.9959726, -4.777284 ,\n",
              "       -4.6662183, -3.9245334, -3.6495457, -3.7380636, -4.7459817,\n",
              "       -3.9605656, -2.9659133, -5.147889 , -3.2504368, -3.708345 ,\n",
              "       -3.6904874, -3.5214553, -4.1052575, -4.827238 , -4.613441 ,\n",
              "       -3.7317605, -3.6965363, -4.098245 , -4.41284  , -4.584413 ,\n",
              "       -4.05366  , -3.0697856, -4.607033 , -3.7682722, -4.2511506,\n",
              "       -4.825876 , -3.4945955, -4.3961515, -4.7553887, -7.662698 ,\n",
              "       -4.8516083, -4.8682265, -5.0418506, -4.7449837, -4.40188  ,\n",
              "       -5.7057233, -5.062021 , -3.8521159, -2.8838875, -3.8960044,\n",
              "       -4.7370906, -5.859085 , -3.8480904, -4.6710777, -3.989084 ,\n",
              "       -4.174486 , -4.5430427, -2.6763723, -4.767602 , -3.2217   ,\n",
              "       -5.1680474, -4.2665124, -3.238064 , -4.670177 , -4.666885 ,\n",
              "       -4.716343 , -3.5310562, -4.6830096, -3.839559 , -4.761663 ,\n",
              "       -4.591357 , -3.3718688, -5.137065 , -4.8942833, -3.263896 ,\n",
              "       -3.9595687, -4.298702 , -4.301644 , -3.4035   , -4.606693 ,\n",
              "       -5.4215636, -3.709942 , -3.9187558, -4.220687 , -5.1122594,\n",
              "       -4.4598646, -4.7158055, -4.1166325, -4.810019 , -4.6044574,\n",
              "       -3.993203 , -3.3805237, -3.2343252, -4.6552763, -3.5883207,\n",
              "       -4.1497583, -2.9478106, -3.7869134, -4.665886 , -3.8665242,\n",
              "       -4.36578  , -4.0306773, -2.2630284, -4.7505627, -2.8776147,\n",
              "       -8.905107 , -4.3093834, -5.2737684, -4.2127385, -4.536905 ,\n",
              "       -3.752816 , -5.452117 , -3.6952405, -4.8104024, -4.0503073,\n",
              "       -5.492883 , -2.2567456, -4.291624 , -4.573326 , -3.8778327,\n",
              "       -4.9901853, -4.207024 , -4.383283 , -4.0720963, -5.107132 ,\n",
              "       -5.466658 , -4.4758844, -4.405458 , -3.8615785, -4.908613 ,\n",
              "       -5.0538034, -3.6302783, -4.666974 , -4.335844 , -4.0105114,\n",
              "       -4.355207 , -4.7029266, -4.1414294, -2.880502 , -3.7968748,\n",
              "       -2.5337217, -3.2177317, -3.583579 , -3.879016 , -4.3663387,\n",
              "       -1.8134543, -3.9712303, -4.1490583, -5.3696632, -4.7359395,\n",
              "       -4.3130183, -3.5130746, -2.8781614, -4.6093745, -4.133022 ,\n",
              "       -4.3039184, -4.5729594, -4.1815143, -5.5646267, -4.20341  ,\n",
              "       -4.9703956, -2.659088 , -4.2383113, -3.9431822, -4.2170553,\n",
              "       -2.8393507, -3.6805687, -4.7906785, -5.119661 , -3.1588516,\n",
              "       -4.58389  , -4.223793 , -3.2955098, -5.3557305, -3.8101513,\n",
              "       -2.8443723, -3.8078444, -4.8656354, -5.412591 , -5.1767216,\n",
              "       -3.3462157, -3.1488109, -4.7049866, -4.3680353, -4.063631 ,\n",
              "       -3.944285 , -4.994063 , -2.6503212, -3.3300376, -2.7106175,\n",
              "       -4.707818 , -3.8362277, -2.7133598, -4.812861 , -3.0721896,\n",
              "       -5.2415895, -4.3125467, -4.4835196, -3.7897148, -4.7428093,\n",
              "       -6.3538494, -3.8800247, -3.2063773, -4.150269 , -4.0036545,\n",
              "       -4.798537 , -4.556822 , -4.0231867, -3.593452 , -3.8053954,\n",
              "       -2.8789306, -4.1806774, -5.4233556, -3.577511 , -4.4655643,\n",
              "       -4.583509 , -4.9134803, -5.1566143, -3.5911293, -5.455188 ,\n",
              "       -4.6641717, -2.426969 , -4.992629 , -3.3394496, -4.581526 ,\n",
              "       -5.291094 ], dtype=float32)"
            ]
          },
          "metadata": {
            "tags": []
          },
          "execution_count": 16
        }
      ]
    },
    {
      "cell_type": "code",
      "metadata": {
        "id": "Gm1ECG29Vx6n"
      },
      "source": [
        "vieses_camada_dense_zerados = np.zeros((256,))\n",
        "modelo.layers[1].set_weights([pesos_camada_dense_aleatorios,vieses_camada_dense_zerados])"
      ],
      "execution_count": null,
      "outputs": []
    },
    {
      "cell_type": "markdown",
      "metadata": {
        "id": "DtAxKTGnOVIJ"
      },
      "source": [
        "**Salvando e carregando o modelo treinado**"
      ]
    },
    {
      "cell_type": "code",
      "metadata": {
        "id": "by_ELyevJQ9V"
      },
      "source": [
        "modelo.save('modelo.h5')\n",
        "modelo_salvo = load_model('modelo.h5')"
      ],
      "execution_count": null,
      "outputs": []
    },
    {
      "cell_type": "markdown",
      "metadata": {
        "id": "UchAyC2TOkt6"
      },
      "source": [
        "**Visualizando as acurácias de treino e validação por época **"
      ]
    },
    {
      "cell_type": "code",
      "metadata": {
        "colab": {
          "base_uri": "https://localhost:8080/",
          "height": 314
        },
        "id": "3p82CgngDG_W",
        "outputId": "2c5434d1-edcb-4ba6-e863-2d83b3af7c53"
      },
      "source": [
        "plt.plot(historico.history['accuracy'])\n",
        "plt.plot(historico.history['val_accuracy'])\n",
        "plt.title('Acurácia por épocas')\n",
        "plt.xlabel('Épocas')\n",
        "plt.ylabel('Acurácia')\n",
        "plt.legend(['Treino', 'Validação'])"
      ],
      "execution_count": null,
      "outputs": [
        {
          "output_type": "execute_result",
          "data": {
            "text/plain": [
              "<matplotlib.legend.Legend at 0x7f3622ce0128>"
            ]
          },
          "metadata": {
            "tags": []
          },
          "execution_count": 18
        },
        {
          "output_type": "display_data",
          "data": {
            "image/png": "[encoded data removed]",
            "text/plain": [
              "<Figure size 432x288 with 1 Axes>"
            ]
          },
          "metadata": {
            "tags": [],
            "needs_background": "light"
          }
        }
      ]
    },
    {
      "cell_type": "markdown",
      "metadata": {
        "id": "iRBe1j9uOzkg"
      },
      "source": [
        "**Visualizando as perdas de treino e validação por época** "
      ]
    },
    {
      "cell_type": "code",
      "metadata": {
        "colab": {
          "base_uri": "https://localhost:8080/",
          "height": 314
        },
        "id": "jieguMKPFcbJ",
        "outputId": "896b53c5-6ad1-4921-a3a2-23e392f6219a"
      },
      "source": [
        "plt.plot(historico.history['loss'])\n",
        "plt.plot(historico.history['val_loss'])\n",
        "plt.title('Perda por épocas')\n",
        "plt.xlabel('Épocas')\n",
        "plt.ylabel('Perda')\n",
        "plt.legend(['Treino', 'Validação'])"
      ],
      "execution_count": null,
      "outputs": [
        {
          "output_type": "execute_result",
          "data": {
            "text/plain": [
              "<matplotlib.legend.Legend at 0x7f92cbb22160>"
            ]
          },
          "metadata": {
            "tags": []
          },
          "execution_count": 18
        },
        {
          "output_type": "display_data",
          "data": {
            "image/png": "[encoded data removed]",
            "text/plain": [
              "<Figure size 432x288 with 1 Axes>"
            ]
          },
          "metadata": {
            "tags": [],
            "needs_background": "light"
          }
        }
      ]
    },
    {
      "cell_type": "markdown",
      "metadata": {
        "id": "AAiOrDatPKpL"
      },
      "source": [
        "**Testando o modelo e o modelo Salvo**"
      ]
    },
    {
      "cell_type": "code",
      "metadata": {
        "colab": {
          "base_uri": "https://localhost:8080/"
        },
        "id": "-3hQuipj-ZGN",
        "outputId": "ec1d2f84-e4e1-4288-cbf2-29d33828d012"
      },
      "source": [
        "testes = modelo.predict(imagens_teste)\n",
        "print('Resultado teste:', np.argmax(testes[0]))\n",
        "print('Número da Imagem teste:', identificacoes_teste[0])\n",
        "\n",
        "testes_modelo_salvo = modelo_salvo.predict(imagens_teste)\n",
        "print('Resultado teste modelo salvo:', np.argmax(testes_modelo_salvo[0]))\n",
        "print('Número da Imagem teste:', identificacoes_teste[0])"
      ],
      "execution_count": null,
      "outputs": [
        {
          "output_type": "stream",
          "text": [
            "Resultado teste: 9\n",
            "Número da Imagem teste: 9\n",
            "Resultado teste modelo salvo: 9\n",
            "Número da Imagem teste: 9\n"
          ],
          "name": "stdout"
        }
      ]
    },
    {
      "cell_type": "markdown",
      "metadata": {
        "id": "ixHwsnkvPQVQ"
      },
      "source": [
        "**Aliando o modelo** "
      ]
    },
    {
      "cell_type": "code",
      "metadata": {
        "colab": {
          "base_uri": "https://localhost:8080/"
        },
        "id": "ZfCmfD-nAu_B",
        "outputId": "3f021a6e-2843-424d-f72c-bee79e3b2a9d"
      },
      "source": [
        "perda_teste, acuracia_teste = modelo.evaluate(imagens_teste, identificacoes_teste)\n",
        "print('Perda do teste:', perda_teste)\n",
        "print('Acurácia do teste:', acuracia_teste)"
      ],
      "execution_count": null,
      "outputs": [
        {
          "output_type": "stream",
          "text": [
            "313/313 [==============================] - 1s 2ms/step - loss: 266081.9062 - accuracy: 0.1000\n",
            "Perda do teste: 266081.90625\n",
            "Acurácia do teste: 0.10000000149011612\n"
          ],
          "name": "stdout"
        }
      ]
    },
    {
      "cell_type": "code",
      "metadata": {
        "colab": {
          "base_uri": "https://localhost:8080/"
        },
        "id": "ODK1rh3yx03g",
        "outputId": "5deb27d0-6571-4f61-df9c-a384a8e41b59"
      },
      "source": [
        "#Importando o Drive...\n",
        "\n",
        "drive.mount('/content/drive')"
      ],
      "execution_count": null,
      "outputs": [
        {
          "output_type": "stream",
          "text": [
            "Mounted at /content/drive\n"
          ],
          "name": "stdout"
        }
      ]
    },
    {
      "cell_type": "code",
      "metadata": {
        "id": "Ein7ISMs1YeP"
      },
      "source": [
        "from google.colab import drive\n",
        "drive.mount('/content/drive')"
      ],
      "execution_count": null,
      "outputs": []
    }
  ]
}